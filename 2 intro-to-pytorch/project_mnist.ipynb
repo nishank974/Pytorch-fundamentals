{
 "cells": [
  {
   "cell_type": "code",
   "execution_count": 39,
   "metadata": {},
   "outputs": [],
   "source": [
    "import torch\n",
    "from torch import nn\n",
    "import torch.nn.functional as F\n",
    "from torchvision import datasets, transforms\n",
    "import os\n",
    "import numpy as  np\n",
    "# Define a transform to normalize the data\n",
    "transform = transforms.Compose([transforms.ToTensor(),\n",
    "                                transforms.Normalize((0.5,), (0.5,)),\n",
    "                              ])\n",
    "# Download and load the training data\n",
    "trainset = datasets.MNIST('~/.pytorch/MNIST_data/', download=True, train=True, transform=transform)\n",
    "trainloader = torch.utils.data.DataLoader(trainset, batch_size=64, shuffle=True)"
   ]
  },
  {
   "cell_type": "code",
   "execution_count": 2,
   "metadata": {},
   "outputs": [],
   "source": [
    "from torch import nn, optim\n",
    "import torch.nn.functional as F\n",
    "\n",
    "#  device variable for gpu functionality\n",
    "device = torch.device('cuda' if torch.cuda.is_available() else 'cpu')\n",
    "\n",
    "\n",
    "class Classifier(nn.Module):\n",
    "    def __init__(self):\n",
    "        super().__init__()\n",
    "        self.fc1 = nn.Linear(784, 256)\n",
    "        self.fc2 = nn.Linear(256, 128)\n",
    "        self.fc3 = nn.Linear(128, 64)\n",
    "        self.fc4 = nn.Linear(64, 10)\n",
    "        \n",
    "    def forward(self, x):\n",
    "        # make sure input tensor is flattened\n",
    "        x = x.view(x.shape[0], -1)\n",
    "        \n",
    "        x = F.relu(self.fc1(x))\n",
    "        x = F.relu(self.fc2(x))\n",
    "        x = F.relu(self.fc3(x))\n",
    "        x = F.log_softmax(self.fc4(x), dim=1)\n",
    "        \n",
    "        return x"
   ]
  },
  {
   "cell_type": "code",
   "execution_count": 5,
   "metadata": {},
   "outputs": [],
   "source": [
    "model = Classifier().to(device)\n",
    "criterion = nn.NLLLoss()\n",
    "optimizer = optim.Adam(model.parameters(), lr=0.003)"
   ]
  },
  {
   "cell_type": "code",
   "execution_count": 6,
   "metadata": {},
   "outputs": [
    {
     "name": "stdout",
     "output_type": "stream",
     "text": [
      "epoch: 0/30, loss: 321.020621791482\n",
      "epoch: 1/30, loss: 156.9900071863085\n",
      "epoch: 2/30, loss: 127.4544461928308\n",
      "epoch: 3/30, loss: 109.00662127323449\n",
      "epoch: 4/30, loss: 100.54807238653302\n",
      "epoch: 5/30, loss: 90.9983499981463\n",
      "epoch: 6/30, loss: 85.11708540096879\n",
      "epoch: 7/30, loss: 79.23691769316792\n",
      "epoch: 8/30, loss: 76.31451794691384\n",
      "epoch: 9/30, loss: 70.71322200167924\n",
      "epoch: 10/30, loss: 66.28947063721716\n",
      "epoch: 11/30, loss: 63.524978118017316\n",
      "epoch: 12/30, loss: 63.60489966254681\n",
      "epoch: 13/30, loss: 59.04888444766402\n",
      "epoch: 14/30, loss: 60.378593353554606\n",
      "epoch: 15/30, loss: 58.23979605548084\n",
      "epoch: 16/30, loss: 54.764619713649154\n",
      "epoch: 17/30, loss: 50.87073614727706\n",
      "epoch: 18/30, loss: 51.05850944761187\n",
      "epoch: 19/30, loss: 55.57285486860201\n",
      "epoch: 20/30, loss: 48.443306404165924\n",
      "epoch: 21/30, loss: 49.181739325635135\n",
      "epoch: 22/30, loss: 47.950982017442584\n",
      "epoch: 23/30, loss: 41.47129496792331\n",
      "epoch: 24/30, loss: 52.33026483748108\n",
      "epoch: 25/30, loss: 41.376682286616415\n",
      "epoch: 26/30, loss: 43.159627785906196\n",
      "epoch: 27/30, loss: 38.80349101754837\n",
      "epoch: 28/30, loss: 45.51285713131074\n",
      "epoch: 29/30, loss: 41.70738684898242\n"
     ]
    }
   ],
   "source": [
    "epochs = 30\n",
    "\n",
    "for e in range(epochs):\n",
    "    running_loss = 0\n",
    "\n",
    "    for images, labels in trainloader:\n",
    "        \n",
    "        images = images.to(device)\n",
    "        labels = labels.to(device)\n",
    "        optimizer.zero_grad()\n",
    "        \n",
    "        log_ps = model(images)\n",
    "        loss = criterion(log_ps, labels)\n",
    "        loss.backward()\n",
    "        optimizer.step()\n",
    "        \n",
    "        running_loss += loss.item()\n",
    "    \n",
    "    print(\"epoch: {}/{}, loss: {}\".format(e,epochs,running_loss))"
   ]
  },
  {
   "cell_type": "code",
   "execution_count": 8,
   "metadata": {},
   "outputs": [],
   "source": [
    "torch.save(model.state_dict(), './project/mnist_checkpoint.pth')"
   ]
  },
  {
   "cell_type": "code",
   "execution_count": 58,
   "metadata": {},
   "outputs": [],
   "source": [
    "base_path = \"./project/mnist_results/node \"\n",
    "for images,labels in trainloader:\n",
    "    images = images.to(device)\n",
    "    labels = labels.to(device)\n",
    "    logpbs = model(images)\n",
    "    values, class_idx = logpbs.topk(1,dim=1)\n",
    "    \n",
    "    for image,label in zip(images,class_idx):\n",
    "        path = base_path + str(label.item())\n",
    "        if not os.path.exists(path): \n",
    "            os.mkdir(path)\n",
    "    \n",
    "        p, dirs, files = next(os.walk(path))\n",
    "        file_count = len(files)\n",
    "        img = image.cpu().numpy()\n",
    "        img = np.squeeze(img)\n",
    "        plt.imsave(path+\"/\"+ \"img_\" +str(file_count) + '.jpg',img)\n",
    "        \n",
    "        #         print(image.shape,label.item())"
   ]
  }
 ],
 "metadata": {
  "kernelspec": {
   "display_name": "Python 3",
   "language": "python",
   "name": "python3"
  },
  "language_info": {
   "codemirror_mode": {
    "name": "ipython",
    "version": 3
   },
   "file_extension": ".py",
   "mimetype": "text/x-python",
   "name": "python",
   "nbconvert_exporter": "python",
   "pygments_lexer": "ipython3",
   "version": "3.6.9"
  }
 },
 "nbformat": 4,
 "nbformat_minor": 2
}
